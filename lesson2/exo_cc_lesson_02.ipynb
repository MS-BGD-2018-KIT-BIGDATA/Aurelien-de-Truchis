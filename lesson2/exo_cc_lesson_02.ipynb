{
 "cells": [
  {
   "cell_type": "code",
   "execution_count": 21,
   "metadata": {},
   "outputs": [
    {
     "data": {
      "text/plain": [
       "1836"
      ]
     },
     "execution_count": 21,
     "metadata": {},
     "output_type": "execute_result"
    }
   ],
   "source": [
    "import requests\n",
    "from bs4 import BeautifulSoup\n",
    "\n",
    "def getSoupFromURL(url, method='get', data={}):\n",
    "\n",
    "  if method == 'get':\n",
    "    res = requests.get(url)\n",
    "  elif method == 'post':\n",
    "    res = requests.post(url, data=data)\n",
    "  else:\n",
    "    return None\n",
    "\n",
    "  if res.status_code == 200:\n",
    "    soup = BeautifulSoup(res.text, 'html.parser')\n",
    "    return soup\n",
    "  else:\n",
    "    return None\n",
    "\n",
    "def getDiscountBrand (Brand):\n",
    "    soup = getSoupFromURL('https://www.cdiscount.com/search/10/'+ Brand +'.html#_his_')\n",
    "    Discount = soup.find_all(class_ = \"ecoBlk\")\n",
    "    ListeMontantsDiscount = list(map(lambda x: int(x.get_text().split(\" \")[1].replace(u'€', u'').replace(u' ', u'')), Discount ))\n",
    "    return(sum(ListeMontantsDiscount))\n",
    "\n",
    "getDiscountBrand('Acer')\n"
   ]
  }
 ],
 "metadata": {
  "kernelspec": {
   "display_name": "Python 3",
   "language": "python",
   "name": "python3"
  },
  "language_info": {
   "codemirror_mode": {
    "name": "ipython",
    "version": 3
   },
   "file_extension": ".py",
   "mimetype": "text/x-python",
   "name": "python",
   "nbconvert_exporter": "python",
   "pygments_lexer": "ipython3",
   "version": "3.6.1"
  }
 },
 "nbformat": 4,
 "nbformat_minor": 2
}
