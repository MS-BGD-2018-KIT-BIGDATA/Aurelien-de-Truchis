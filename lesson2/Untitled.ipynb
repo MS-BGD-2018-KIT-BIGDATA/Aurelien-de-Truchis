{
 "cells": [
  {
   "cell_type": "code",
   "execution_count": 31,
   "metadata": {},
   "outputs": [],
   "source": [
    "import requests\n",
    "import requests\n",
    "import pandas as pd\n",
    "from bs4 import BeautifulSoup\n",
    "\n",
    "def getSoupFromURL(url, method='get', data={}):\n",
    "\n",
    "  if method == 'get':\n",
    "    res = requests.get(url)\n",
    "  elif method == 'post':\n",
    "    res = requests.post(url, data=data)\n",
    "  else:\n",
    "    return None\n",
    "  if res.status_code == 200:\n",
    "    soup = BeautifulSoup(res.text, 'html.parser')\n",
    "    return soup\n",
    "  else:\n",
    "    return None\n",
    "\n",
    "def getListofUsers (url):   \n",
    "    soup = getSoupFromURL(url)\n",
    "    Users_css = soup.select(\"th + td\")\n",
    "    Users = list(map(lambda x :x.get_text().split(\" \")[0],Users_css))\n",
    "    return(Users)\n",
    "\n",
    "def getMeanStarsUser (user):\n",
    "    url='https://api.github.com/search/repositories?q=user:'+ user +'&sort=stars'\n",
    "    content=requests.get(url)\n",
    "    data=content.json()\n",
    "    liste=[data['items'][i]['stargazers_count'] for i in range(len(data['items']))]\n",
    "    return(sum(list)/len(list))\n",
    "\n",
    "url='https://gist.github.com/paulmillr/2657075'\n",
    "\n",
    "#ListOfMean = map(lambda x: getMeanStarsUser (x),getListofUsers (url))\n"
   ]
  },
  {
   "cell_type": "code",
   "execution_count": 29,
   "metadata": {},
   "outputs": [
    {
     "data": {
      "text/plain": [
       "47.733333333333334"
      ]
     },
     "execution_count": 29,
     "metadata": {},
     "output_type": "execute_result"
    }
   ],
   "source": [
    "getMeanStarsUser ('AdamBien')"
   ]
  },
  {
   "cell_type": "code",
   "execution_count": null,
   "metadata": {
    "collapsed": true
   },
   "outputs": [],
   "source": []
  }
 ],
 "metadata": {
  "kernelspec": {
   "display_name": "Python 3",
   "language": "python",
   "name": "python3"
  },
  "language_info": {
   "codemirror_mode": {
    "name": "ipython",
    "version": 3
   },
   "file_extension": ".py",
   "mimetype": "text/x-python",
   "name": "python",
   "nbconvert_exporter": "python",
   "pygments_lexer": "ipython3",
   "version": "3.6.1"
  }
 },
 "nbformat": 4,
 "nbformat_minor": 2
}
